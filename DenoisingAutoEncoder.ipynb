{
  "nbformat": 4,
  "nbformat_minor": 0,
  "metadata": {
    "colab": {
      "name": "DenoisingAutoEncoder.ipynb",
      "version": "0.3.2",
      "provenance": [],
      "collapsed_sections": []
    },
    "kernelspec": {
      "name": "python3",
      "display_name": "Python 3"
    },
    "accelerator": "GPU"
  },
  "cells": [
    {
      "metadata": {
        "id": "HSgE8gj-rYtf",
        "colab_type": "text"
      },
      "cell_type": "markdown",
      "source": [
        "# Denoising Autoencoder with MNIST Digits"
      ]
    },
    {
      "metadata": {
        "id": "CLmb5gCwjbiA",
        "colab_type": "text"
      },
      "cell_type": "markdown",
      "source": [
        "Import modules, upload mnist data, data normalization, apply noise"
      ]
    },
    {
      "metadata": {
        "id": "MFHIAGE1jZUA",
        "colab_type": "code",
        "outputId": "8482521f-d31f-4c05-c3cd-0648b6fd859e",
        "colab": {
          "base_uri": "https://localhost:8080/",
          "height": 72
        }
      },
      "cell_type": "code",
      "source": [
        "import random\n",
        "import copy\n",
        "from keras.layers import Input, Dense, Conv2D, MaxPooling2D, UpSampling2D\n",
        "from keras.models import Model\n",
        "from keras import backend as K\n",
        "from keras.datasets import mnist\n",
        "import numpy as np\n",
        "import matplotlib.pyplot as plt\n",
        "\n",
        "(x_train, _), (x_test, _) = mnist.load_data()"
      ],
      "execution_count": 1,
      "outputs": [
        {
          "output_type": "stream",
          "text": [
            "Using TensorFlow backend.\n"
          ],
          "name": "stderr"
        },
        {
          "output_type": "stream",
          "text": [
            "Downloading data from https://s3.amazonaws.com/img-datasets/mnist.npz\n",
            "11493376/11490434 [==============================] - 8s 1us/step\n"
          ],
          "name": "stdout"
        }
      ]
    },
    {
      "metadata": {
        "id": "mhq5euC-lih0",
        "colab_type": "text"
      },
      "cell_type": "markdown",
      "source": [
        "Data normalization to values in range [0-1] and reshape to array suitable for network"
      ]
    },
    {
      "metadata": {
        "id": "4fn4bdU-lhcX",
        "colab_type": "code",
        "colab": {}
      },
      "cell_type": "code",
      "source": [
        "x_train = x_train.astype('float32') / 255.\n",
        "x_test = x_test.astype('float32') / 255.\n",
        "x_train = np.reshape(x_train, (len(x_train), 28, 28, 1))\n",
        "x_test = np.reshape(x_test, (len(x_test), 28, 28, 1))"
      ],
      "execution_count": 0,
      "outputs": []
    },
    {
      "metadata": {
        "id": "_B9Zx6gGloP3",
        "colab_type": "text"
      },
      "cell_type": "markdown",
      "source": [
        "Apply noise with noise factor 0.5"
      ]
    },
    {
      "metadata": {
        "id": "0oSh5fbElp71",
        "colab_type": "code",
        "colab": {}
      },
      "cell_type": "code",
      "source": [
        "noise_factor = 0.5\n",
        "x_train_noisy = x_train + noise_factor * np.random.normal(loc=0.0, scale=1.0, size=x_train.shape) \n",
        "x_test_noisy = x_test + noise_factor * np.random.normal(loc=0.0, scale=1.0, size=x_test.shape) \n",
        "\n",
        "x_train_noisy = np.clip(x_train_noisy, 0., 1.)\n",
        "x_test_noisy = np.clip(x_test_noisy, 0., 1.)"
      ],
      "execution_count": 0,
      "outputs": []
    },
    {
      "metadata": {
        "id": "w4f7hKRnsgcu",
        "colab_type": "text"
      },
      "cell_type": "markdown",
      "source": [
        "That is how the first 10 noisy input images looks like"
      ]
    },
    {
      "metadata": {
        "id": "RhsEYRpHj9CJ",
        "colab_type": "code",
        "outputId": "f73e9c6f-d593-4b91-9959-0ffba354778f",
        "colab": {
          "base_uri": "https://localhost:8080/",
          "height": 125
        }
      },
      "cell_type": "code",
      "source": [
        "n = 10\n",
        "plt.figure(figsize=(20, 2))\n",
        "for i in range(1,n):\n",
        "    ax = plt.subplot(1, n, i)\n",
        "    plt.imshow(x_test_noisy[i].reshape(28, 28))\n",
        "    plt.gray()\n",
        "    ax.get_xaxis().set_visible(False)\n",
        "    ax.get_yaxis().set_visible(False)\n",
        "plt.show()"
      ],
      "execution_count": 36,
      "outputs": [
        {
          "output_type": "display_data",
          "data": {
            "image/png": "[encoded data removed]",
            "text/plain": [
              "<matplotlib.figure.Figure at 0x7fd950ec0588>"
            ]
          },
          "metadata": {
            "tags": []
          }
        }
      ]
    },
    {
      "metadata": {
        "id": "sS6WxO4RkLyf",
        "colab_type": "text"
      },
      "cell_type": "markdown",
      "source": [
        "Convolutional AutoEncoder model"
      ]
    },
    {
      "metadata": {
        "id": "PK48-cq0kPYT",
        "colab_type": "code",
        "colab": {}
      },
      "cell_type": "code",
      "source": [
        "input_img = Input(shape=(28, 28, 1))  # shape of the images that wil be on input\n",
        "\n",
        "x = Conv2D(32, (3, 3), activation='relu', padding='same')(input_img)\n",
        "x = MaxPooling2D((2, 2), padding='same')(x)\n",
        "x = Conv2D(32, (3, 3), activation='relu', padding='same')(x)\n",
        "encoded = MaxPooling2D((2, 2), padding='same')(x)\n",
        "\n",
        "# at this point the representation is (7, 7, 32)\n",
        "\n",
        "x = Conv2D(32, (3, 3), activation='relu', padding='same')(encoded)\n",
        "x = UpSampling2D((2, 2))(x)\n",
        "x = Conv2D(32, (3, 3), activation='relu', padding='same')(x)\n",
        "x = UpSampling2D((2, 2))(x)\n",
        "decoded = Conv2D(1, (3, 3), activation='sigmoid', padding='same')(x)\n",
        "\n",
        "autoencoder = Model(input_img, decoded)\n",
        "autoencoder.compile(optimizer='adadelta', loss='binary_crossentropy')"
      ],
      "execution_count": 0,
      "outputs": []
    },
    {
      "metadata": {
        "id": "pcaomPuwtEA9",
        "colab_type": "text"
      },
      "cell_type": "markdown",
      "source": [
        "Train network for 100 epochs with noisy images as input and correct images as desired output"
      ]
    },
    {
      "metadata": {
        "id": "Qu236JEjtG2P",
        "colab_type": "code",
        "outputId": "3a701dab-f002-4ff3-cc0c-7a7306cff114",
        "colab": {
          "base_uri": "https://localhost:8080/",
          "height": 3727
        }
      },
      "cell_type": "code",
      "source": [
        "autoencoder.fit(x_train_noisy, x_train,\n",
        "                epochs=100,\n",
        "                batch_size=128,\n",
        "                shuffle=True,\n",
        "                validation_data=(x_test_noisy, x_test),\n",
        "                verbose=2)"
      ],
      "execution_count": 38,
      "outputs": [
        {
          "output_type": "stream",
          "text": [
            "Train on 60000 samples, validate on 10000 samples\n",
            "Epoch 1/100\n",
            " - 7s - loss: 0.1816 - val_loss: 0.1231\n",
            "Epoch 2/100\n",
            " - 7s - loss: 0.1173 - val_loss: 0.1106\n",
            "Epoch 3/100\n",
            " - 7s - loss: 0.1104 - val_loss: 0.1070\n",
            "Epoch 4/100\n",
            " - 7s - loss: 0.1071 - val_loss: 0.1044\n",
            "Epoch 5/100\n",
            " - 7s - loss: 0.1051 - val_loss: 0.1045\n",
            "Epoch 6/100\n",
            " - 7s - loss: 0.1038 - val_loss: 0.1038\n",
            "Epoch 7/100\n",
            " - 7s - loss: 0.1027 - val_loss: 0.1008\n",
            "Epoch 8/100\n",
            " - 7s - loss: 0.1018 - val_loss: 0.1043\n",
            "Epoch 9/100\n",
            " - 7s - loss: 0.1013 - val_loss: 0.1009\n",
            "Epoch 10/100\n",
            " - 7s - loss: 0.1009 - val_loss: 0.0995\n",
            "Epoch 11/100\n",
            " - 7s - loss: 0.1003 - val_loss: 0.0988\n",
            "Epoch 12/100\n",
            " - 7s - loss: 0.1001 - val_loss: 0.0998\n",
            "Epoch 13/100\n",
            " - 7s - loss: 0.0998 - val_loss: 0.0990\n",
            "Epoch 14/100\n",
            " - 7s - loss: 0.0994 - val_loss: 0.0986\n",
            "Epoch 15/100\n",
            " - 7s - loss: 0.0991 - val_loss: 0.0981\n",
            "Epoch 16/100\n",
            " - 7s - loss: 0.0988 - val_loss: 0.0978\n",
            "Epoch 17/100\n",
            " - 7s - loss: 0.0986 - val_loss: 0.0978\n",
            "Epoch 18/100\n",
            " - 7s - loss: 0.0983 - val_loss: 0.0972\n",
            "Epoch 19/100\n",
            " - 7s - loss: 0.0982 - val_loss: 0.0968\n",
            "Epoch 20/100\n",
            " - 7s - loss: 0.0980 - val_loss: 0.0966\n",
            "Epoch 21/100\n",
            " - 7s - loss: 0.0978 - val_loss: 0.0965\n",
            "Epoch 22/100\n",
            " - 7s - loss: 0.0976 - val_loss: 0.0965\n",
            "Epoch 23/100\n",
            " - 7s - loss: 0.0975 - val_loss: 0.0984\n",
            "Epoch 24/100\n",
            " - 7s - loss: 0.0973 - val_loss: 0.0961\n",
            "Epoch 25/100\n",
            " - 7s - loss: 0.0973 - val_loss: 0.0970\n",
            "Epoch 26/100\n",
            " - 7s - loss: 0.0971 - val_loss: 0.0962\n",
            "Epoch 27/100\n",
            " - 7s - loss: 0.0971 - val_loss: 0.0961\n",
            "Epoch 28/100\n",
            " - 7s - loss: 0.0970 - val_loss: 0.0970\n",
            "Epoch 29/100\n",
            " - 7s - loss: 0.0968 - val_loss: 0.0971\n",
            "Epoch 30/100\n",
            " - 7s - loss: 0.0966 - val_loss: 0.0965\n",
            "Epoch 31/100\n",
            " - 7s - loss: 0.0966 - val_loss: 0.0957\n",
            "Epoch 32/100\n",
            " - 7s - loss: 0.0965 - val_loss: 0.0961\n",
            "Epoch 33/100\n",
            " - 7s - loss: 0.0965 - val_loss: 0.0956\n",
            "Epoch 34/100\n",
            " - 7s - loss: 0.0964 - val_loss: 0.0955\n",
            "Epoch 35/100\n",
            " - 7s - loss: 0.0964 - val_loss: 0.0953\n",
            "Epoch 36/100\n",
            " - 7s - loss: 0.0963 - val_loss: 0.0962\n",
            "Epoch 37/100\n",
            " - 7s - loss: 0.0961 - val_loss: 0.0956\n",
            "Epoch 38/100\n",
            " - 7s - loss: 0.0961 - val_loss: 0.0959\n",
            "Epoch 39/100\n",
            " - 7s - loss: 0.0960 - val_loss: 0.0955\n",
            "Epoch 40/100\n",
            " - 7s - loss: 0.0960 - val_loss: 0.0950\n",
            "Epoch 41/100\n",
            " - 7s - loss: 0.0959 - val_loss: 0.0951\n",
            "Epoch 42/100\n",
            " - 7s - loss: 0.0958 - val_loss: 0.0952\n",
            "Epoch 43/100\n",
            " - 7s - loss: 0.0958 - val_loss: 0.0951\n",
            "Epoch 44/100\n",
            " - 7s - loss: 0.0957 - val_loss: 0.0972\n",
            "Epoch 45/100\n",
            " - 7s - loss: 0.0957 - val_loss: 0.0951\n",
            "Epoch 46/100\n",
            " - 7s - loss: 0.0957 - val_loss: 0.0952\n",
            "Epoch 47/100\n",
            " - 7s - loss: 0.0956 - val_loss: 0.0950\n",
            "Epoch 48/100\n",
            " - 7s - loss: 0.0955 - val_loss: 0.0946\n",
            "Epoch 49/100\n",
            " - 7s - loss: 0.0955 - val_loss: 0.0946\n",
            "Epoch 50/100\n",
            " - 7s - loss: 0.0955 - val_loss: 0.0954\n",
            "Epoch 51/100\n",
            " - 7s - loss: 0.0954 - val_loss: 0.0957\n",
            "Epoch 52/100\n",
            " - 7s - loss: 0.0954 - val_loss: 0.0945\n",
            "Epoch 53/100\n",
            " - 7s - loss: 0.0954 - val_loss: 0.0948\n",
            "Epoch 54/100\n",
            " - 7s - loss: 0.0953 - val_loss: 0.0945\n",
            "Epoch 55/100\n",
            " - 7s - loss: 0.0954 - val_loss: 0.0947\n",
            "Epoch 56/100\n",
            " - 7s - loss: 0.0953 - val_loss: 0.0955\n",
            "Epoch 57/100\n",
            " - 7s - loss: 0.0952 - val_loss: 0.0945\n",
            "Epoch 58/100\n",
            " - 7s - loss: 0.0952 - val_loss: 0.0944\n",
            "Epoch 59/100\n",
            " - 7s - loss: 0.0951 - val_loss: 0.0954\n",
            "Epoch 60/100\n",
            " - 7s - loss: 0.0951 - val_loss: 0.0950\n",
            "Epoch 61/100\n",
            " - 7s - loss: 0.0951 - val_loss: 0.0949\n",
            "Epoch 62/100\n",
            " - 7s - loss: 0.0950 - val_loss: 0.0945\n",
            "Epoch 63/100\n",
            " - 7s - loss: 0.0950 - val_loss: 0.0942\n",
            "Epoch 64/100\n",
            " - 7s - loss: 0.0950 - val_loss: 0.0943\n",
            "Epoch 65/100\n",
            " - 7s - loss: 0.0950 - val_loss: 0.0942\n",
            "Epoch 66/100\n",
            " - 7s - loss: 0.0949 - val_loss: 0.0954\n",
            "Epoch 67/100\n",
            " - 7s - loss: 0.0949 - val_loss: 0.0944\n",
            "Epoch 68/100\n",
            " - 7s - loss: 0.0949 - val_loss: 0.0943\n",
            "Epoch 69/100\n",
            " - 7s - loss: 0.0949 - val_loss: 0.0943\n",
            "Epoch 70/100\n",
            " - 7s - loss: 0.0948 - val_loss: 0.0944\n",
            "Epoch 71/100\n",
            " - 7s - loss: 0.0947 - val_loss: 0.0945\n",
            "Epoch 72/100\n",
            " - 7s - loss: 0.0948 - val_loss: 0.0940\n",
            "Epoch 73/100\n",
            " - 7s - loss: 0.0947 - val_loss: 0.0941\n",
            "Epoch 74/100\n",
            " - 7s - loss: 0.0947 - val_loss: 0.0942\n",
            "Epoch 75/100\n",
            " - 7s - loss: 0.0947 - val_loss: 0.0939\n",
            "Epoch 76/100\n",
            " - 7s - loss: 0.0947 - val_loss: 0.0958\n",
            "Epoch 77/100\n",
            " - 7s - loss: 0.0947 - val_loss: 0.0945\n",
            "Epoch 78/100\n",
            " - 7s - loss: 0.0946 - val_loss: 0.0942\n",
            "Epoch 79/100\n",
            " - 7s - loss: 0.0945 - val_loss: 0.0939\n",
            "Epoch 80/100\n",
            " - 7s - loss: 0.0945 - val_loss: 0.0940\n",
            "Epoch 81/100\n",
            " - 7s - loss: 0.0945 - val_loss: 0.0940\n",
            "Epoch 82/100\n",
            " - 7s - loss: 0.0946 - val_loss: 0.0945\n",
            "Epoch 83/100\n",
            " - 7s - loss: 0.0945 - val_loss: 0.0951\n",
            "Epoch 84/100\n",
            " - 7s - loss: 0.0944 - val_loss: 0.0942\n",
            "Epoch 85/100\n",
            " - 7s - loss: 0.0945 - val_loss: 0.0944\n",
            "Epoch 86/100\n",
            " - 7s - loss: 0.0945 - val_loss: 0.0938\n",
            "Epoch 87/100\n",
            " - 7s - loss: 0.0944 - val_loss: 0.0942\n",
            "Epoch 88/100\n",
            " - 7s - loss: 0.0944 - val_loss: 0.0938\n",
            "Epoch 89/100\n",
            " - 7s - loss: 0.0943 - val_loss: 0.0942\n",
            "Epoch 90/100\n",
            " - 7s - loss: 0.0944 - val_loss: 0.0939\n",
            "Epoch 91/100\n",
            " - 7s - loss: 0.0944 - val_loss: 0.0947\n",
            "Epoch 92/100\n",
            " - 7s - loss: 0.0943 - val_loss: 0.0937\n",
            "Epoch 93/100\n",
            " - 7s - loss: 0.0943 - val_loss: 0.0940\n",
            "Epoch 94/100\n",
            " - 7s - loss: 0.0943 - val_loss: 0.0940\n",
            "Epoch 95/100\n",
            " - 7s - loss: 0.0943 - val_loss: 0.0936\n",
            "Epoch 96/100\n",
            " - 7s - loss: 0.0942 - val_loss: 0.0938\n",
            "Epoch 97/100\n",
            " - 7s - loss: 0.0942 - val_loss: 0.0937\n",
            "Epoch 98/100\n",
            " - 7s - loss: 0.0943 - val_loss: 0.0942\n",
            "Epoch 99/100\n",
            " - 7s - loss: 0.0942 - val_loss: 0.0941\n",
            "Epoch 100/100\n",
            " - 7s - loss: 0.0942 - val_loss: 0.0939\n"
          ],
          "name": "stdout"
        },
        {
          "output_type": "execute_result",
          "data": {
            "text/plain": [
              "<keras.callbacks.History at 0x7fd9516588d0>"
            ]
          },
          "metadata": {
            "tags": []
          },
          "execution_count": 38
        }
      ]
    },
    {
      "metadata": {
        "id": "UyOQQx6qtKp7",
        "colab_type": "text"
      },
      "cell_type": "markdown",
      "source": [
        "Testing the denoising autoencoder and visualizing images on input and output of autoencoder"
      ]
    },
    {
      "metadata": {
        "id": "BcpTtXpBtJs4",
        "colab_type": "code",
        "outputId": "b571bafa-bb73-47a6-99ed-5123cec6f980",
        "colab": {
          "base_uri": "https://localhost:8080/",
          "height": 244
        }
      },
      "cell_type": "code",
      "source": [
        "decoded_imgs = autoencoder.predict(x_test_noisy)\n",
        "\n",
        "n = 10\n",
        "plt.figure(figsize=(20, 4))\n",
        "for i in range(1,n):\n",
        "    # display original\n",
        "    ax = plt.subplot(2, n, i)\n",
        "    plt.imshow(x_test_noisy[i].reshape(28, 28))\n",
        "    plt.gray()\n",
        "    ax.get_xaxis().set_visible(False)\n",
        "    ax.get_yaxis().set_visible(False)\n",
        "\n",
        "    # display reconstruction\n",
        "    ax = plt.subplot(2, n, i + n)\n",
        "    plt.imshow(decoded_imgs[i].reshape(28, 28))\n",
        "    plt.gray()\n",
        "    ax.get_xaxis().set_visible(False)\n",
        "    ax.get_yaxis().set_visible(False)\n",
        "plt.show()"
      ],
      "execution_count": 39,
      "outputs": [
        {
          "output_type": "display_data",
          "data": {
            "image/png": "[encoded data removed]",
            "text/plain": [
              "<matplotlib.figure.Figure at 0x7fd950f34940>"
            ]
          },
          "metadata": {
            "tags": []
          }
        }
      ]
    },
    {
      "metadata": {
        "id": "sg9cmpkQ21Vh",
        "colab_type": "text"
      },
      "cell_type": "markdown",
      "source": [
        "# Now, let's do the inpainting autoencoder"
      ]
    },
    {
      "metadata": {
        "id": "uYSYPBUf254G",
        "colab_type": "text"
      },
      "cell_type": "markdown",
      "source": [
        "First we must create data for training and testing, so we apply randomly 5 stripes on images"
      ]
    },
    {
      "metadata": {
        "id": "RAjjcZs0WXnH",
        "colab_type": "code",
        "colab": {}
      },
      "cell_type": "code",
      "source": [
        "stripes_no = 10\n",
        "x_train_inpaint = copy.deepcopy(x_train)\n",
        "x_test_inpaint = copy.deepcopy(x_test)\n",
        "for i in range(len(x_train_inpaint)):\n",
        "    stripes = random.sample(range(28), stripes_no)\n",
        "    for j in range(len(x_train_inpaint[i])):\n",
        "        if j in stripes:\n",
        "            x_train_inpaint[i][j] = np.zeros((28,1))\n",
        "\n",
        "for i in range(len(x_test_inpaint)):\n",
        "    stripes = random.sample(range(28), stripes_no)\n",
        "    for j in range(len(x_test_inpaint[i])):\n",
        "        if j in stripes:\n",
        "            x_test_inpaint[i][j] = np.zeros((28,1))"
      ],
      "execution_count": 0,
      "outputs": []
    },
    {
      "metadata": {
        "id": "TpTNEJHbWdvi",
        "colab_type": "text"
      },
      "cell_type": "markdown",
      "source": [
        "Visualizing input images with stripes"
      ]
    },
    {
      "metadata": {
        "id": "EsgKuZmFWgTn",
        "colab_type": "code",
        "outputId": "477ce2c5-a2c2-4727-dd8a-64d8443c1442",
        "colab": {
          "base_uri": "https://localhost:8080/",
          "height": 80
        }
      },
      "cell_type": "code",
      "source": [
        "n = 10\n",
        "plt.figure(figsize=(20, 2))\n",
        "for i in range(1,n):\n",
        "    # display original\n",
        "    ax = plt.subplot(2, n, i)\n",
        "    plt.imshow(x_train_inpaint[i].reshape(28, 28))\n",
        "    plt.gray()\n",
        "    ax.get_xaxis().set_visible(False)\n",
        "    ax.get_yaxis().set_visible(False)\n",
        "plt.show()"
      ],
      "execution_count": 46,
      "outputs": [
        {
          "output_type": "display_data",
          "data": {
            "image/png": "[encoded data removed]",
            "text/plain": [
              "<matplotlib.figure.Figure at 0x7fd950a38b38>"
            ]
          },
          "metadata": {
            "tags": []
          }
        }
      ]
    },
    {
      "metadata": {
        "id": "vGXs7C6rWpFd",
        "colab_type": "text"
      },
      "cell_type": "markdown",
      "source": [
        "fit into the same network model once again but know the images with stripes"
      ]
    },
    {
      "metadata": {
        "id": "faSdOXtsWuIH",
        "colab_type": "code",
        "outputId": "74736aa1-1822-469d-bcd9-803e2fde70fa",
        "colab": {
          "base_uri": "https://localhost:8080/",
          "height": 3727
        }
      },
      "cell_type": "code",
      "source": [
        "autoencoder.fit(x_train_inpaint, x_train,\n",
        "                epochs=100,\n",
        "                batch_size=128,\n",
        "                shuffle=True,\n",
        "                validation_data=(x_test_inpaint, x_test),\n",
        "                verbose=2)"
      ],
      "execution_count": 48,
      "outputs": [
        {
          "output_type": "stream",
          "text": [
            "Train on 60000 samples, validate on 10000 samples\n",
            "Epoch 1/100\n",
            " - 7s - loss: 0.0929 - val_loss: 0.0898\n",
            "Epoch 2/100\n",
            " - 7s - loss: 0.0896 - val_loss: 0.0880\n",
            "Epoch 3/100\n",
            " - 7s - loss: 0.0879 - val_loss: 0.0883\n",
            "Epoch 4/100\n",
            " - 7s - loss: 0.0868 - val_loss: 0.0847\n",
            "Epoch 5/100\n",
            " - 7s - loss: 0.0860 - val_loss: 0.0859\n",
            "Epoch 6/100\n",
            " - 7s - loss: 0.0852 - val_loss: 0.0875\n",
            "Epoch 7/100\n",
            " - 7s - loss: 0.0848 - val_loss: 0.0851\n",
            "Epoch 8/100\n",
            " - 7s - loss: 0.0844 - val_loss: 0.0834\n",
            "Epoch 9/100\n",
            " - 7s - loss: 0.0840 - val_loss: 0.0824\n",
            "Epoch 10/100\n",
            " - 7s - loss: 0.0836 - val_loss: 0.0842\n",
            "Epoch 11/100\n",
            " - 7s - loss: 0.0833 - val_loss: 0.0846\n",
            "Epoch 12/100\n",
            " - 7s - loss: 0.0832 - val_loss: 0.0842\n",
            "Epoch 13/100\n",
            " - 7s - loss: 0.0830 - val_loss: 0.0825\n",
            "Epoch 14/100\n",
            " - 7s - loss: 0.0828 - val_loss: 0.0822\n",
            "Epoch 15/100\n",
            " - 7s - loss: 0.0825 - val_loss: 0.0812\n",
            "Epoch 16/100\n",
            " - 7s - loss: 0.0823 - val_loss: 0.0814\n",
            "Epoch 17/100\n",
            " - 7s - loss: 0.0822 - val_loss: 0.0819\n",
            "Epoch 18/100\n",
            " - 7s - loss: 0.0822 - val_loss: 0.0815\n",
            "Epoch 19/100\n",
            " - 7s - loss: 0.0819 - val_loss: 0.0807\n",
            "Epoch 20/100\n",
            " - 7s - loss: 0.0817 - val_loss: 0.0806\n",
            "Epoch 21/100\n",
            " - 7s - loss: 0.0817 - val_loss: 0.0812\n",
            "Epoch 22/100\n",
            " - 7s - loss: 0.0816 - val_loss: 0.0816\n",
            "Epoch 23/100\n",
            " - 7s - loss: 0.0815 - val_loss: 0.0820\n",
            "Epoch 24/100\n",
            " - 7s - loss: 0.0813 - val_loss: 0.0801\n",
            "Epoch 25/100\n",
            " - 7s - loss: 0.0812 - val_loss: 0.0814\n",
            "Epoch 26/100\n",
            " - 7s - loss: 0.0811 - val_loss: 0.0814\n",
            "Epoch 27/100\n",
            " - 7s - loss: 0.0811 - val_loss: 0.0807\n",
            "Epoch 28/100\n",
            " - 7s - loss: 0.0809 - val_loss: 0.0800\n",
            "Epoch 29/100\n",
            " - 7s - loss: 0.0808 - val_loss: 0.0797\n",
            "Epoch 30/100\n",
            " - 7s - loss: 0.0807 - val_loss: 0.0819\n",
            "Epoch 31/100\n",
            " - 7s - loss: 0.0807 - val_loss: 0.0795\n",
            "Epoch 32/100\n",
            " - 7s - loss: 0.0806 - val_loss: 0.0794\n",
            "Epoch 33/100\n",
            " - 7s - loss: 0.0806 - val_loss: 0.0805\n",
            "Epoch 34/100\n",
            " - 7s - loss: 0.0804 - val_loss: 0.0793\n",
            "Epoch 35/100\n",
            " - 7s - loss: 0.0804 - val_loss: 0.0799\n",
            "Epoch 36/100\n",
            " - 7s - loss: 0.0803 - val_loss: 0.0803\n",
            "Epoch 37/100\n",
            " - 7s - loss: 0.0803 - val_loss: 0.0792\n",
            "Epoch 38/100\n",
            " - 7s - loss: 0.0802 - val_loss: 0.0793\n",
            "Epoch 39/100\n",
            " - 7s - loss: 0.0802 - val_loss: 0.0790\n",
            "Epoch 40/100\n",
            " - 7s - loss: 0.0801 - val_loss: 0.0798\n",
            "Epoch 41/100\n",
            " - 7s - loss: 0.0800 - val_loss: 0.0792\n",
            "Epoch 42/100\n",
            " - 7s - loss: 0.0799 - val_loss: 0.0797\n",
            "Epoch 43/100\n",
            " - 7s - loss: 0.0799 - val_loss: 0.0794\n",
            "Epoch 44/100\n",
            " - 7s - loss: 0.0799 - val_loss: 0.0797\n",
            "Epoch 45/100\n",
            " - 7s - loss: 0.0798 - val_loss: 0.0790\n",
            "Epoch 46/100\n",
            " - 7s - loss: 0.0797 - val_loss: 0.0795\n",
            "Epoch 47/100\n",
            " - 7s - loss: 0.0798 - val_loss: 0.0798\n",
            "Epoch 48/100\n",
            " - 7s - loss: 0.0797 - val_loss: 0.0788\n",
            "Epoch 49/100\n",
            " - 7s - loss: 0.0796 - val_loss: 0.0786\n",
            "Epoch 50/100\n",
            " - 7s - loss: 0.0795 - val_loss: 0.0789\n",
            "Epoch 51/100\n",
            " - 7s - loss: 0.0795 - val_loss: 0.0791\n",
            "Epoch 52/100\n",
            " - 7s - loss: 0.0794 - val_loss: 0.0797\n",
            "Epoch 53/100\n",
            " - 7s - loss: 0.0795 - val_loss: 0.0785\n",
            "Epoch 54/100\n",
            " - 7s - loss: 0.0795 - val_loss: 0.0790\n",
            "Epoch 55/100\n",
            " - 7s - loss: 0.0793 - val_loss: 0.0786\n",
            "Epoch 56/100\n",
            " - 7s - loss: 0.0793 - val_loss: 0.0801\n",
            "Epoch 57/100\n",
            " - 7s - loss: 0.0793 - val_loss: 0.0797\n",
            "Epoch 58/100\n",
            " - 7s - loss: 0.0792 - val_loss: 0.0795\n",
            "Epoch 59/100\n",
            " - 7s - loss: 0.0793 - val_loss: 0.0782\n",
            "Epoch 60/100\n",
            " - 7s - loss: 0.0792 - val_loss: 0.0783\n",
            "Epoch 61/100\n",
            " - 7s - loss: 0.0792 - val_loss: 0.0791\n",
            "Epoch 62/100\n",
            " - 7s - loss: 0.0792 - val_loss: 0.0788\n",
            "Epoch 63/100\n",
            " - 7s - loss: 0.0791 - val_loss: 0.0789\n",
            "Epoch 64/100\n",
            " - 7s - loss: 0.0791 - val_loss: 0.0793\n",
            "Epoch 65/100\n",
            " - 7s - loss: 0.0790 - val_loss: 0.0786\n",
            "Epoch 66/100\n",
            " - 7s - loss: 0.0790 - val_loss: 0.0787\n",
            "Epoch 67/100\n",
            " - 7s - loss: 0.0790 - val_loss: 0.0781\n",
            "Epoch 68/100\n",
            " - 7s - loss: 0.0789 - val_loss: 0.0782\n",
            "Epoch 69/100\n",
            " - 7s - loss: 0.0790 - val_loss: 0.0781\n",
            "Epoch 70/100\n",
            " - 7s - loss: 0.0789 - val_loss: 0.0785\n",
            "Epoch 71/100\n",
            " - 7s - loss: 0.0789 - val_loss: 0.0785\n",
            "Epoch 72/100\n",
            " - 7s - loss: 0.0788 - val_loss: 0.0790\n",
            "Epoch 73/100\n",
            " - 7s - loss: 0.0787 - val_loss: 0.0781\n",
            "Epoch 74/100\n",
            " - 7s - loss: 0.0788 - val_loss: 0.0791\n",
            "Epoch 75/100\n",
            " - 7s - loss: 0.0788 - val_loss: 0.0785\n",
            "Epoch 76/100\n",
            " - 7s - loss: 0.0788 - val_loss: 0.0779\n",
            "Epoch 77/100\n",
            " - 7s - loss: 0.0787 - val_loss: 0.0781\n",
            "Epoch 78/100\n",
            " - 7s - loss: 0.0787 - val_loss: 0.0791\n",
            "Epoch 79/100\n",
            " - 7s - loss: 0.0787 - val_loss: 0.0778\n",
            "Epoch 80/100\n",
            " - 7s - loss: 0.0787 - val_loss: 0.0789\n",
            "Epoch 81/100\n",
            " - 7s - loss: 0.0787 - val_loss: 0.0782\n",
            "Epoch 82/100\n",
            " - 7s - loss: 0.0786 - val_loss: 0.0778\n",
            "Epoch 83/100\n",
            " - 7s - loss: 0.0786 - val_loss: 0.0784\n",
            "Epoch 84/100\n",
            " - 7s - loss: 0.0785 - val_loss: 0.0783\n",
            "Epoch 85/100\n",
            " - 7s - loss: 0.0786 - val_loss: 0.0787\n",
            "Epoch 86/100\n",
            " - 7s - loss: 0.0785 - val_loss: 0.0778\n",
            "Epoch 87/100\n",
            " - 7s - loss: 0.0785 - val_loss: 0.0786\n",
            "Epoch 88/100\n",
            " - 7s - loss: 0.0785 - val_loss: 0.0778\n",
            "Epoch 89/100\n",
            " - 7s - loss: 0.0785 - val_loss: 0.0784\n",
            "Epoch 90/100\n",
            " - 7s - loss: 0.0784 - val_loss: 0.0779\n",
            "Epoch 91/100\n",
            " - 7s - loss: 0.0785 - val_loss: 0.0790\n",
            "Epoch 92/100\n",
            " - 7s - loss: 0.0785 - val_loss: 0.0778\n",
            "Epoch 93/100\n",
            " - 7s - loss: 0.0785 - val_loss: 0.0779\n",
            "Epoch 94/100\n",
            " - 7s - loss: 0.0784 - val_loss: 0.0782\n",
            "Epoch 95/100\n",
            " - 7s - loss: 0.0783 - val_loss: 0.0776\n",
            "Epoch 96/100\n",
            " - 7s - loss: 0.0784 - val_loss: 0.0793\n",
            "Epoch 97/100\n",
            " - 7s - loss: 0.0784 - val_loss: 0.0777\n",
            "Epoch 98/100\n",
            " - 7s - loss: 0.0783 - val_loss: 0.0778\n",
            "Epoch 99/100\n",
            " - 7s - loss: 0.0783 - val_loss: 0.0776\n",
            "Epoch 100/100\n",
            " - 7s - loss: 0.0783 - val_loss: 0.0782\n"
          ],
          "name": "stdout"
        },
        {
          "output_type": "execute_result",
          "data": {
            "text/plain": [
              "<keras.callbacks.History at 0x7fd950d6fd30>"
            ]
          },
          "metadata": {
            "tags": []
          },
          "execution_count": 48
        }
      ]
    },
    {
      "metadata": {
        "id": "XbEKWW-F4ETb",
        "colab_type": "text"
      },
      "cell_type": "markdown",
      "source": [
        "Now tests and visualization"
      ]
    },
    {
      "metadata": {
        "id": "k0iqEnix4Dmn",
        "colab_type": "code",
        "colab": {
          "base_uri": "https://localhost:8080/",
          "height": 244
        },
        "outputId": "ee2b11ab-531c-4025-cb49-8b7f3daca6cc"
      },
      "cell_type": "code",
      "source": [
        "decoded_imgs = autoencoder.predict(x_test_inpaint)\n",
        "\n",
        "n = 10\n",
        "plt.figure(figsize=(20, 4))\n",
        "for i in range(1,n):\n",
        "    # display original\n",
        "    ax = plt.subplot(2, n, i)\n",
        "    plt.imshow(x_test_inpaint[i].reshape(28, 28))\n",
        "    plt.gray()\n",
        "    ax.get_xaxis().set_visible(False)\n",
        "    ax.get_yaxis().set_visible(False)\n",
        "\n",
        "    # display reconstruction\n",
        "    ax = plt.subplot(2, n, i + n)\n",
        "    plt.imshow(decoded_imgs[i].reshape(28, 28))\n",
        "    plt.gray()\n",
        "    ax.get_xaxis().set_visible(False)\n",
        "    ax.get_yaxis().set_visible(False)\n",
        "plt.show()"
      ],
      "execution_count": 49,
      "outputs": [
        {
          "output_type": "display_data",
          "data": {
            "image/png": "[encoded data removed]",
            "text/plain": [
              "<matplotlib.figure.Figure at 0x7fd93da8c6a0>"
            ]
          },
          "metadata": {
            "tags": []
          }
        }
      ]
    },
    {
      "metadata": {
        "id": "Gzi5J-wd4owb",
        "colab_type": "text"
      },
      "cell_type": "markdown",
      "source": [
        "# Another inpainting experiment, now with blocks"
      ]
    },
    {
      "metadata": {
        "id": "2nYbvyQK4v4I",
        "colab_type": "text"
      },
      "cell_type": "markdown",
      "source": [
        "Creating data from dataset images with randomly placed gray block of size 10x10"
      ]
    },
    {
      "metadata": {
        "id": "KtW2vnRS4-s-",
        "colab_type": "code",
        "colab": {}
      },
      "cell_type": "code",
      "source": [
        "block_size = 10\n",
        "x_train_inpaint_block = copy.deepcopy(x_train)\n",
        "x_test_inpaint_block = copy.deepcopy(x_test)\n",
        "for i in range(len(x_train_inpaint_block)):\n",
        "    x = random.randint(0,28-block_size)\n",
        "    y = random.randint(0,28-block_size)\n",
        "    for j in range(block_size):\n",
        "        for k in range(block_size):\n",
        "            x_train_inpaint_block[i][x+j][y+k] = 0.5 # gray color\n",
        "\n",
        "for i in range(len(x_test_inpaint_block)):\n",
        "    x = random.randint(0,28-block_size)\n",
        "    y = random.randint(0,28-block_size)\n",
        "    for j in range(block_size):\n",
        "        for k in range(block_size):\n",
        "            x_test_inpaint_block[i][x+j][y+k] = 0.5"
      ],
      "execution_count": 0,
      "outputs": []
    },
    {
      "metadata": {
        "id": "5s4Y43KL8pTx",
        "colab_type": "text"
      },
      "cell_type": "markdown",
      "source": [
        "Visualization of input images with the gray blocks"
      ]
    },
    {
      "metadata": {
        "id": "zm9dS8qx8tvv",
        "colab_type": "code",
        "outputId": "f9d555de-65ee-4f2d-b15d-da627755d813",
        "colab": {
          "base_uri": "https://localhost:8080/",
          "height": 125
        }
      },
      "cell_type": "code",
      "source": [
        "n = 10\n",
        "plt.figure(figsize=(20, 4))\n",
        "for i in range(1,n):\n",
        "    # display original\n",
        "    ax = plt.subplot(2, n, i)\n",
        "    plt.imshow(x_train_inpaint_block[i].reshape(28, 28))\n",
        "    plt.gray()\n",
        "    ax.get_xaxis().set_visible(False)\n",
        "    ax.get_yaxis().set_visible(False)\n",
        "plt.show()"
      ],
      "execution_count": 51,
      "outputs": [
        {
          "output_type": "display_data",
          "data": {
            "image/png": "[encoded data removed]",
            "text/plain": [
              "<matplotlib.figure.Figure at 0x7fd9515f8358>"
            ]
          },
          "metadata": {
            "tags": []
          }
        }
      ]
    },
    {
      "metadata": {
        "id": "vEa8DMnZ8wPR",
        "colab_type": "text"
      },
      "cell_type": "markdown",
      "source": [
        "fit into the same network model once again but know with the images with grayblocks"
      ]
    },
    {
      "metadata": {
        "id": "yrzAvZpd83J3",
        "colab_type": "code",
        "outputId": "d69aa590-e8d3-45ef-b18b-7b09fedc8412",
        "colab": {
          "base_uri": "https://localhost:8080/",
          "height": 3727
        }
      },
      "cell_type": "code",
      "source": [
        "autoencoder.fit(x_train_inpaint_block, x_train,\n",
        "                epochs=100,\n",
        "                batch_size=128,\n",
        "                shuffle=True,\n",
        "                validation_data=(x_test_inpaint_block, x_test),\n",
        "               verbose=2)"
      ],
      "execution_count": 52,
      "outputs": [
        {
          "output_type": "stream",
          "text": [
            "Train on 60000 samples, validate on 10000 samples\n",
            "Epoch 1/100\n",
            " - 7s - loss: 0.1012 - val_loss: 0.0967\n",
            "Epoch 2/100\n",
            " - 7s - loss: 0.0956 - val_loss: 0.0938\n",
            "Epoch 3/100\n",
            " - 7s - loss: 0.0937 - val_loss: 0.0934\n",
            "Epoch 4/100\n",
            " - 7s - loss: 0.0925 - val_loss: 0.0918\n",
            "Epoch 5/100\n",
            " - 7s - loss: 0.0919 - val_loss: 0.0918\n",
            "Epoch 6/100\n",
            " - 7s - loss: 0.0913 - val_loss: 0.0906\n",
            "Epoch 7/100\n",
            " - 7s - loss: 0.0909 - val_loss: 0.0900\n",
            "Epoch 8/100\n",
            " - 7s - loss: 0.0904 - val_loss: 0.0901\n",
            "Epoch 9/100\n",
            " - 7s - loss: 0.0901 - val_loss: 0.0896\n",
            "Epoch 10/100\n",
            " - 7s - loss: 0.0899 - val_loss: 0.0896\n",
            "Epoch 11/100\n",
            " - 7s - loss: 0.0896 - val_loss: 0.0896\n",
            "Epoch 12/100\n",
            " - 7s - loss: 0.0894 - val_loss: 0.0899\n",
            "Epoch 13/100\n",
            " - 7s - loss: 0.0892 - val_loss: 0.0889\n",
            "Epoch 14/100\n",
            " - 7s - loss: 0.0890 - val_loss: 0.0888\n",
            "Epoch 15/100\n",
            " - 7s - loss: 0.0888 - val_loss: 0.0889\n",
            "Epoch 16/100\n",
            " - 7s - loss: 0.0887 - val_loss: 0.0881\n",
            "Epoch 17/100\n",
            " - 7s - loss: 0.0885 - val_loss: 0.0892\n",
            "Epoch 18/100\n",
            " - 7s - loss: 0.0884 - val_loss: 0.0901\n",
            "Epoch 19/100\n",
            " - 7s - loss: 0.0882 - val_loss: 0.0877\n",
            "Epoch 20/100\n",
            " - 7s - loss: 0.0881 - val_loss: 0.0885\n",
            "Epoch 21/100\n",
            " - 7s - loss: 0.0880 - val_loss: 0.0877\n",
            "Epoch 22/100\n",
            " - 7s - loss: 0.0879 - val_loss: 0.0887\n",
            "Epoch 23/100\n",
            " - 7s - loss: 0.0878 - val_loss: 0.0874\n",
            "Epoch 24/100\n",
            " - 7s - loss: 0.0876 - val_loss: 0.0875\n",
            "Epoch 25/100\n",
            " - 7s - loss: 0.0876 - val_loss: 0.0879\n",
            "Epoch 26/100\n",
            " - 7s - loss: 0.0875 - val_loss: 0.0882\n",
            "Epoch 27/100\n",
            " - 7s - loss: 0.0874 - val_loss: 0.0880\n",
            "Epoch 28/100\n",
            " - 7s - loss: 0.0873 - val_loss: 0.0870\n",
            "Epoch 29/100\n",
            " - 7s - loss: 0.0872 - val_loss: 0.0883\n",
            "Epoch 30/100\n",
            " - 7s - loss: 0.0871 - val_loss: 0.0872\n",
            "Epoch 31/100\n",
            " - 7s - loss: 0.0871 - val_loss: 0.0872\n",
            "Epoch 32/100\n",
            " - 7s - loss: 0.0870 - val_loss: 0.0892\n",
            "Epoch 33/100\n",
            " - 7s - loss: 0.0870 - val_loss: 0.0878\n",
            "Epoch 34/100\n",
            " - 7s - loss: 0.0868 - val_loss: 0.0868\n",
            "Epoch 35/100\n",
            " - 7s - loss: 0.0868 - val_loss: 0.0880\n",
            "Epoch 36/100\n",
            " - 7s - loss: 0.0868 - val_loss: 0.0872\n",
            "Epoch 37/100\n",
            " - 7s - loss: 0.0866 - val_loss: 0.0870\n",
            "Epoch 38/100\n",
            " - 7s - loss: 0.0866 - val_loss: 0.0871\n",
            "Epoch 39/100\n",
            " - 7s - loss: 0.0866 - val_loss: 0.0865\n",
            "Epoch 40/100\n",
            " - 7s - loss: 0.0865 - val_loss: 0.0866\n",
            "Epoch 41/100\n",
            " - 7s - loss: 0.0865 - val_loss: 0.0881\n",
            "Epoch 42/100\n",
            " - 7s - loss: 0.0865 - val_loss: 0.0876\n",
            "Epoch 43/100\n",
            " - 7s - loss: 0.0863 - val_loss: 0.0870\n",
            "Epoch 44/100\n",
            " - 7s - loss: 0.0863 - val_loss: 0.0863\n",
            "Epoch 45/100\n",
            " - 7s - loss: 0.0862 - val_loss: 0.0862\n",
            "Epoch 46/100\n",
            " - 7s - loss: 0.0862 - val_loss: 0.0861\n",
            "Epoch 47/100\n",
            " - 7s - loss: 0.0861 - val_loss: 0.0861\n",
            "Epoch 48/100\n",
            " - 7s - loss: 0.0861 - val_loss: 0.0861\n",
            "Epoch 49/100\n",
            " - 7s - loss: 0.0861 - val_loss: 0.0863\n",
            "Epoch 50/100\n",
            " - 7s - loss: 0.0861 - val_loss: 0.0880\n",
            "Epoch 51/100\n",
            " - 7s - loss: 0.0860 - val_loss: 0.0863\n",
            "Epoch 52/100\n",
            " - 7s - loss: 0.0860 - val_loss: 0.0873\n",
            "Epoch 53/100\n",
            " - 7s - loss: 0.0860 - val_loss: 0.0882\n",
            "Epoch 54/100\n",
            " - 7s - loss: 0.0859 - val_loss: 0.0859\n",
            "Epoch 55/100\n",
            " - 7s - loss: 0.0859 - val_loss: 0.0868\n",
            "Epoch 56/100\n",
            " - 7s - loss: 0.0858 - val_loss: 0.0865\n",
            "Epoch 57/100\n",
            " - 7s - loss: 0.0857 - val_loss: 0.0857\n",
            "Epoch 58/100\n",
            " - 7s - loss: 0.0858 - val_loss: 0.0864\n",
            "Epoch 59/100\n",
            " - 7s - loss: 0.0858 - val_loss: 0.0861\n",
            "Epoch 60/100\n",
            " - 7s - loss: 0.0857 - val_loss: 0.0858\n",
            "Epoch 61/100\n",
            " - 7s - loss: 0.0856 - val_loss: 0.0867\n",
            "Epoch 62/100\n",
            " - 7s - loss: 0.0856 - val_loss: 0.0860\n",
            "Epoch 63/100\n",
            " - 7s - loss: 0.0856 - val_loss: 0.0871\n",
            "Epoch 64/100\n",
            " - 7s - loss: 0.0855 - val_loss: 0.0865\n",
            "Epoch 65/100\n",
            " - 7s - loss: 0.0855 - val_loss: 0.0856\n",
            "Epoch 66/100\n",
            " - 7s - loss: 0.0856 - val_loss: 0.0857\n",
            "Epoch 67/100\n",
            " - 7s - loss: 0.0854 - val_loss: 0.0862\n",
            "Epoch 68/100\n",
            " - 7s - loss: 0.0855 - val_loss: 0.0866\n",
            "Epoch 69/100\n",
            " - 7s - loss: 0.0854 - val_loss: 0.0860\n",
            "Epoch 70/100\n",
            " - 7s - loss: 0.0853 - val_loss: 0.0854\n",
            "Epoch 71/100\n",
            " - 7s - loss: 0.0854 - val_loss: 0.0856\n",
            "Epoch 72/100\n",
            " - 7s - loss: 0.0854 - val_loss: 0.0853\n",
            "Epoch 73/100\n",
            " - 7s - loss: 0.0853 - val_loss: 0.0861\n",
            "Epoch 74/100\n",
            " - 7s - loss: 0.0853 - val_loss: 0.0863\n",
            "Epoch 75/100\n",
            " - 7s - loss: 0.0853 - val_loss: 0.0855\n",
            "Epoch 76/100\n",
            " - 7s - loss: 0.0852 - val_loss: 0.0855\n",
            "Epoch 77/100\n",
            " - 7s - loss: 0.0852 - val_loss: 0.0857\n",
            "Epoch 78/100\n",
            " - 7s - loss: 0.0852 - val_loss: 0.0859\n",
            "Epoch 79/100\n",
            " - 7s - loss: 0.0851 - val_loss: 0.0860\n",
            "Epoch 80/100\n",
            " - 7s - loss: 0.0851 - val_loss: 0.0859\n",
            "Epoch 81/100\n",
            " - 7s - loss: 0.0851 - val_loss: 0.0851\n",
            "Epoch 82/100\n",
            " - 7s - loss: 0.0851 - val_loss: 0.0851\n",
            "Epoch 83/100\n",
            " - 7s - loss: 0.0850 - val_loss: 0.0865\n",
            "Epoch 84/100\n",
            " - 7s - loss: 0.0850 - val_loss: 0.0861\n",
            "Epoch 85/100\n",
            " - 7s - loss: 0.0851 - val_loss: 0.0869\n",
            "Epoch 86/100\n",
            " - 7s - loss: 0.0849 - val_loss: 0.0855\n",
            "Epoch 87/100\n",
            " - 7s - loss: 0.0850 - val_loss: 0.0853\n",
            "Epoch 88/100\n",
            " - 7s - loss: 0.0850 - val_loss: 0.0852\n",
            "Epoch 89/100\n",
            " - 7s - loss: 0.0850 - val_loss: 0.0851\n",
            "Epoch 90/100\n",
            " - 7s - loss: 0.0850 - val_loss: 0.0859\n",
            "Epoch 91/100\n",
            " - 7s - loss: 0.0848 - val_loss: 0.0856\n",
            "Epoch 92/100\n",
            " - 7s - loss: 0.0849 - val_loss: 0.0854\n",
            "Epoch 93/100\n",
            " - 7s - loss: 0.0849 - val_loss: 0.0852\n",
            "Epoch 94/100\n",
            " - 7s - loss: 0.0849 - val_loss: 0.0851\n",
            "Epoch 95/100\n",
            " - 7s - loss: 0.0848 - val_loss: 0.0855\n",
            "Epoch 96/100\n",
            " - 7s - loss: 0.0848 - val_loss: 0.0861\n",
            "Epoch 97/100\n",
            " - 7s - loss: 0.0848 - val_loss: 0.0865\n",
            "Epoch 98/100\n",
            " - 7s - loss: 0.0848 - val_loss: 0.0859\n",
            "Epoch 99/100\n",
            " - 7s - loss: 0.0848 - val_loss: 0.0858\n",
            "Epoch 100/100\n",
            " - 7s - loss: 0.0848 - val_loss: 0.0851\n"
          ],
          "name": "stdout"
        },
        {
          "output_type": "execute_result",
          "data": {
            "text/plain": [
              "<keras.callbacks.History at 0x7fd93dac1be0>"
            ]
          },
          "metadata": {
            "tags": []
          },
          "execution_count": 52
        }
      ]
    },
    {
      "metadata": {
        "id": "nfp23Zdi89Pt",
        "colab_type": "text"
      },
      "cell_type": "markdown",
      "source": [
        "Now tests and visualization"
      ]
    },
    {
      "metadata": {
        "id": "I4SUDrIU8_Fg",
        "colab_type": "code",
        "outputId": "6f4d415c-6b67-4456-822b-79ce2636af00",
        "colab": {
          "base_uri": "https://localhost:8080/",
          "height": 244
        }
      },
      "cell_type": "code",
      "source": [
        "decoded_imgs = autoencoder.predict(x_test_inpaint_block)\n",
        "\n",
        "n = 10\n",
        "plt.figure(figsize=(20, 4))\n",
        "for i in range(1,n):\n",
        "    # display original\n",
        "    ax = plt.subplot(2, n, i)\n",
        "    plt.imshow(x_test_inpaint_block[i].reshape(28, 28))\n",
        "    plt.gray()\n",
        "    ax.get_xaxis().set_visible(False)\n",
        "    ax.get_yaxis().set_visible(False)\n",
        "\n",
        "    # display reconstruction\n",
        "    ax = plt.subplot(2, n, i + n)\n",
        "    plt.imshow(decoded_imgs[i].reshape(28, 28))\n",
        "    plt.gray()\n",
        "    ax.get_xaxis().set_visible(False)\n",
        "    ax.get_yaxis().set_visible(False)\n",
        "plt.show()"
      ],
      "execution_count": 53,
      "outputs": [
        {
          "output_type": "display_data",
          "data": {
            "image/png": "[encoded data removed]",
            "text/plain": [
              "<matplotlib.figure.Figure at 0x7fd93daa4668>"
            ]
          },
          "metadata": {
            "tags": []
          }
        }
      ]
    },
    {
      "metadata": {
        "id": "y7-EJJywmxX-",
        "colab_type": "text"
      },
      "cell_type": "markdown",
      "source": [
        "Using Denoising Autoencoder as a Generative model"
      ]
    },
    {
      "metadata": {
        "id": "trv8I_I5m10S",
        "colab_type": "code",
        "colab": {
          "base_uri": "https://localhost:8080/",
          "height": 244
        },
        "outputId": "b23f3a0e-c4cf-4c5d-a6d0-f91df688f705"
      },
      "cell_type": "code",
      "source": [
        "noise = noise_factor * np.random.normal(loc=0.0, scale=1.0, size=(10,28,28,1)) \n",
        "\n",
        "decoded_imgs = autoencoder.predict(noise)\n",
        "\n",
        "n = 10\n",
        "plt.figure(figsize=(20, 4))\n",
        "for i in range(1,n):\n",
        "    # display original\n",
        "    ax = plt.subplot(2, n, i)\n",
        "    plt.imshow(noise[i].reshape(28, 28))\n",
        "    plt.gray()\n",
        "    ax.get_xaxis().set_visible(False)\n",
        "    ax.get_yaxis().set_visible(False)\n",
        "\n",
        "    # display reconstruction\n",
        "    ax = plt.subplot(2, n, i + n)\n",
        "    plt.imshow(decoded_imgs[i].reshape(28, 28))\n",
        "    plt.gray()\n",
        "    ax.get_xaxis().set_visible(False)\n",
        "    ax.get_yaxis().set_visible(False)\n",
        "plt.show()\n"
      ],
      "execution_count": 70,
      "outputs": [
        {
          "output_type": "display_data",
          "data": {
            "image/png": "[encoded data removed]",
            "text/plain": [
              "<matplotlib.figure.Figure at 0x7fd950fee470>"
            ]
          },
          "metadata": {
            "tags": []
          }
        }
      ]
    }
  ]
}